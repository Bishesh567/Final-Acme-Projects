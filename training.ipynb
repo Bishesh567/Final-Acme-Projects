{
 "cells": [
  {
   "cell_type": "code",
   "execution_count": 1,
   "metadata": {},
   "outputs": [],
   "source": [
    "import matplotlib.pyplot as plt\n",
    "import cv2\n",
    "import numpy as np\n",
    "from tensorflow.keras.models import Sequential\n",
    "from tensorflow.keras.layers import Dense, Flatten, Conv2D, MaxPooling2D, Dropout, BatchNormalization\n",
    "from tensorflow.keras.optimizers import SGD, Adam, RMSprop\n",
    "from keras.callbacks import ReduceLROnPlateau, EarlyStopping\n",
    "from tensorflow.keras.utils import to_categorical\n",
    "import pandas as pd\n",
    "import numpy as np\n",
    "from sklearn.model_selection import train_test_split\n",
    "from sklearn.utils import shuffle\n",
    "from keras import regularizers"
   ]
  },
  {
   "cell_type": "code",
   "execution_count": 2,
   "metadata": {},
   "outputs": [],
   "source": [
    "data = pd.read_csv(\"./A_Z Handwritten Data.csv\")"
   ]
  },
  {
   "cell_type": "code",
   "execution_count": 3,
   "metadata": {},
   "outputs": [],
   "source": [
    "X = data.drop('0',axis = 1)\n",
    "y = data['0']\n"
   ]
  },
  {
   "cell_type": "code",
   "execution_count": 4,
   "metadata": {},
   "outputs": [
    {
     "data": {
      "text/plain": [
       "(74490, 28, 28)"
      ]
     },
     "execution_count": 4,
     "metadata": {},
     "output_type": "execute_result"
    }
   ],
   "source": [
    "train_x, test_x, train_y, test_y = train_test_split(X, y, test_size = 0.2)\n",
    "\n",
    "train_x = np.reshape(train_x.values, (train_x.shape[0], 28,28))\n",
    "test_x = np.reshape(test_x.values, (test_x.shape[0], 28,28))\n",
    "\n",
    "train_x.shape\n",
    "test_x.shape"
   ]
  },
  {
   "cell_type": "code",
   "execution_count": 5,
   "metadata": {},
   "outputs": [],
   "source": [
    "from keras.datasets import mnist"
   ]
  },
  {
   "cell_type": "code",
   "execution_count": 6,
   "metadata": {
    "scrolled": true
   },
   "outputs": [],
   "source": [
    "(train_d, train_t),(test_d, test_t) = mnist.load_data()\n"
   ]
  },
  {
   "cell_type": "code",
   "execution_count": 7,
   "metadata": {},
   "outputs": [],
   "source": [
    "train_t = train_t + 26\n",
    "test_t = test_t + 26"
   ]
  },
  {
   "cell_type": "code",
   "execution_count": 8,
   "metadata": {},
   "outputs": [],
   "source": [
    "train_da = np.concatenate((train_x, train_d))\n",
    "train_lab = np.concatenate((train_y, train_t))\n",
    "test_dat = np.concatenate((test_x, test_d))\n",
    "test_labe = np.concatenate((test_y, test_t))\n",
    "train_da.shape\n",
    "import numpy as np\n",
    "shuffle_index = np.random.permutation(357960)\n",
    "train_dat, train_labe = train_da[shuffle_index], train_lab[shuffle_index]"
   ]
  },
  {
   "cell_type": "code",
   "execution_count": 9,
   "metadata": {},
   "outputs": [
    {
     "data": {
      "text/plain": [
       "<matplotlib.image.AxesImage at 0x1926cdd8cd0>"
      ]
     },
     "execution_count": 9,
     "metadata": {},
     "output_type": "execute_result"
    },
    {
     "data": {
      "image/png": "[encoded data removed]",
      "text/plain": [
       "<Figure size 432x288 with 1 Axes>"
      ]
     },
     "metadata": {
      "needs_background": "light"
     },
     "output_type": "display_data"
    }
   ],
   "source": [
    "plt.imshow(train_dat[357641])"
   ]
  },
  {
   "cell_type": "code",
   "execution_count": 10,
   "metadata": {},
   "outputs": [
    {
     "data": {
      "text/plain": [
       "14"
      ]
     },
     "execution_count": 10,
     "metadata": {},
     "output_type": "execute_result"
    }
   ],
   "source": [
    "train_labe[357641]"
   ]
  },
  {
   "cell_type": "code",
   "execution_count": null,
   "metadata": {},
   "outputs": [],
   "source": []
  },
  {
   "cell_type": "code",
   "execution_count": 11,
   "metadata": {},
   "outputs": [],
   "source": [
    "onlyT = []\n",
    "for i in range(357641):\n",
    "    if train_labe[i] == 6.0:\n",
    "        onlyT.append(train_dat[i])"
   ]
  },
  {
   "cell_type": "code",
   "execution_count": 12,
   "metadata": {},
   "outputs": [
    {
     "data": {
      "text/plain": [
       "<matplotlib.image.AxesImage at 0x1926cc54820>"
      ]
     },
     "execution_count": 12,
     "metadata": {},
     "output_type": "execute_result"
    },
    {
     "data": {
      "image/png": "[encoded data removed]",
      "text/plain": [
       "<Figure size 432x288 with 1 Axes>"
      ]
     },
     "metadata": {
      "needs_background": "light"
     },
     "output_type": "display_data"
    }
   ],
   "source": [
    "plt.imshow(onlyT[3784])"
   ]
  },
  {
   "cell_type": "code",
   "execution_count": null,
   "metadata": {},
   "outputs": [],
   "source": []
  },
  {
   "cell_type": "code",
   "execution_count": null,
   "metadata": {},
   "outputs": [],
   "source": [
    " "
   ]
  },
  {
   "cell_type": "code",
   "execution_count": 13,
   "metadata": {},
   "outputs": [
    {
     "name": "stdout",
     "output_type": "stream",
     "text": [
      "369173\n",
      "19\n"
     ]
    },
    {
     "data": {
      "image/png": "[encoded data removed]",
      "text/plain": [
       "<Figure size 432x288 with 1 Axes>"
      ]
     },
     "metadata": {
      "needs_background": "light"
     },
     "output_type": "display_data"
    }
   ],
   "source": [
    "import os\n",
    "import keras.preprocessing.image as t\n",
    "train_dir = 'C:/Users/dell/Desktop/Deskto/first in ano/VIII SEM PROJECT/char digit with nepali/train'\n",
    "train_dir_ka = os.path.join(train_dir, 'ka')\n",
    "train_dir_kha = os.path.join(train_dir, 'kha')\n",
    "\n",
    "train_data_kha = []\n",
    "train_data_ka = []\n",
    "both = []\n",
    "\n",
    "for fname in os.listdir(train_dir_ka):\n",
    "    img = 'C:/Users/dell/Desktop/Deskto/first in ano/VIII SEM PROJECT/char digit with nepali/train/ka/' + fname\n",
    "    img = cv2.imread(img, cv2.IMREAD_GRAYSCALE)\n",
    "    img = t.img_to_array(img)\n",
    "    img = cv2.resize(img, (28, 28))\n",
    "    img = img.reshape(28, 28)\n",
    "    ret, img = cv2.threshold(img.copy(), 150, 255, cv2.THRESH_BINARY_INV)\n",
    "    train_data_ka.append(img)\n",
    "\n",
    "    \n",
    "for fname in os.listdir(train_dir_kha):\n",
    "    img = 'C:/Users/dell/Desktop/Deskto/first in ano/VIII SEM PROJECT/char digit with nepali/train/kha/' + fname\n",
    "    img = cv2.imread(img, cv2.IMREAD_GRAYSCALE)\n",
    "    img = t.img_to_array(img)\n",
    "    img = cv2.resize(img, (28, 28))\n",
    "    ret, img = cv2.threshold(img.copy(), 150, 255, cv2.THRESH_BINARY_INV)\n",
    "    train_data_kha.append(img)\n",
    "    \n",
    "both = train_data_ka + train_data_kha\n",
    "both = np.array(both)\n",
    "\n",
    "\n",
    "ka = []\n",
    "for i in range(5749):\n",
    "    ka.append(36)\n",
    "    \n",
    "kha = []\n",
    "for i in range(5464):\n",
    "    kha.append(37)\n",
    "    \n",
    "label = ka + kha\n",
    "label = np.array(label)\n",
    "\n",
    "\n",
    "\n",
    "train_data = np.concatenate((train_dat, both))\n",
    "train_label = np.concatenate((train_labe, label))\n",
    "print(len(list(train_data)))\n",
    "\n",
    "shuffle_index = np.random.permutation(369173)\n",
    "train_data, train_label = train_data[shuffle_index], train_label[shuffle_index]\n",
    "\n",
    "plt.imshow(train_data[360459])\n",
    "print(train_label[360459])"
   ]
  },
  {
   "cell_type": "code",
   "execution_count": null,
   "metadata": {},
   "outputs": [],
   "source": []
  },
  {
   "cell_type": "code",
   "execution_count": 14,
   "metadata": {},
   "outputs": [
    {
     "name": "stdout",
     "output_type": "stream",
     "text": [
      "1657\n",
      "1466\n",
      "87613\n"
     ]
    },
    {
     "data": {
      "text/plain": [
       "31"
      ]
     },
     "execution_count": 14,
     "metadata": {},
     "output_type": "execute_result"
    },
    {
     "data": {
      "image/png": "[encoded data removed]",
      "text/plain": [
       "<Figure size 432x288 with 1 Axes>"
      ]
     },
     "metadata": {
      "needs_background": "light"
     },
     "output_type": "display_data"
    }
   ],
   "source": [
    "test_dir = 'C:/Users/dell/Desktop/Deskto/first in ano/VIII SEM PROJECT/char digit with nepali/test'\n",
    "test_dir_ka = os.path.join(test_dir, 'ka')\n",
    "test_dir_kha = os.path.join(test_dir, 'kha')\n",
    "\n",
    "test_data_ka = []\n",
    "test_data_kha = []\n",
    "both_test = []\n",
    "\n",
    "for fname in os.listdir(test_dir_ka):\n",
    "    img = 'C:/Users/dell/Desktop/Deskto/first in ano/VIII SEM PROJECT/char digit with nepali/test/ka/' + fname\n",
    "    img = cv2.imread(img, cv2.IMREAD_GRAYSCALE)\n",
    "    img = t.img_to_array(img)\n",
    "    img = cv2.resize(img, (28, 28))\n",
    "    img = img.reshape(28, 28)\n",
    "    ret, img = cv2.threshold(img.copy(), 150, 255, cv2.THRESH_BINARY_INV)\n",
    "    test_data_ka.append(img)\n",
    "\n",
    "    \n",
    "for fname in os.listdir(test_dir_kha):\n",
    "    img = 'C:/Users/dell/Desktop/Deskto/first in ano/VIII SEM PROJECT/char digit with nepali/test/kha/' + fname\n",
    "    img = cv2.imread(img, cv2.IMREAD_GRAYSCALE)\n",
    "    img = t.img_to_array(img)\n",
    "    img = cv2.resize(img, (28, 28))\n",
    "    ret, img = cv2.threshold(img.copy(), 150, 255, cv2.THRESH_BINARY_INV)\n",
    "    \n",
    "    test_data_kha.append(img)\n",
    "    \n",
    "print(len(test_data_ka))\n",
    "print(len(test_data_kha))\n",
    "both_test = test_data_ka + test_data_kha\n",
    "both_test = np.array(both_test)\n",
    "\n",
    "\n",
    "ka = []\n",
    "for i in range(1657):\n",
    "    ka.append(36)\n",
    "    \n",
    "kha = []\n",
    "for i in range(1466):\n",
    "    kha.append(37)\n",
    "    \n",
    "label = ka + kha\n",
    "label = np.array(label)\n",
    "\n",
    "\n",
    "test_data = np.concatenate((test_dat, both_test))\n",
    "test_label = np.concatenate((test_labe, label))\n",
    "print(len(test_data))\n",
    "\n",
    "shuffle_index = np.random.permutation(87613)\n",
    "test_data, test_label = test_data[shuffle_index], test_label[shuffle_index]\n",
    "plt.imshow(test_data[85097])\n",
    "test_label[85097]"
   ]
  },
  {
   "cell_type": "code",
   "execution_count": null,
   "metadata": {},
   "outputs": [],
   "source": []
  },
  {
   "cell_type": "code",
   "execution_count": null,
   "metadata": {},
   "outputs": [],
   "source": []
  },
  {
   "cell_type": "code",
   "execution_count": 15,
   "metadata": {},
   "outputs": [
    {
     "data": {
      "text/plain": [
       "(369173, 28, 28)"
      ]
     },
     "execution_count": 15,
     "metadata": {},
     "output_type": "execute_result"
    }
   ],
   "source": [
    "train_data.shape"
   ]
  },
  {
   "cell_type": "code",
   "execution_count": 16,
   "metadata": {},
   "outputs": [
    {
     "data": {
      "text/plain": [
       "(87613,)"
      ]
     },
     "execution_count": 16,
     "metadata": {},
     "output_type": "execute_result"
    }
   ],
   "source": [
    "test_label.shape"
   ]
  },
  {
   "cell_type": "code",
   "execution_count": 17,
   "metadata": {},
   "outputs": [],
   "source": [
    "train_data = train_data.astype('float32')/255\n",
    "test_data = test_data.astype('float32')/255\n",
    "train_data = train_data.reshape(369173, 28, 28, 1)\n",
    "test_data = test_data.reshape(87613, 28, 28, 1)\n"
   ]
  },
  {
   "cell_type": "code",
   "execution_count": 18,
   "metadata": {},
   "outputs": [
    {
     "data": {
      "text/plain": [
       "(369173, 38)"
      ]
     },
     "execution_count": 18,
     "metadata": {},
     "output_type": "execute_result"
    }
   ],
   "source": [
    "train_label = to_categorical(train_label)\n",
    "train_label.shape"
   ]
  },
  {
   "cell_type": "code",
   "execution_count": 19,
   "metadata": {},
   "outputs": [
    {
     "data": {
      "text/plain": [
       "(87613, 38)"
      ]
     },
     "execution_count": 19,
     "metadata": {},
     "output_type": "execute_result"
    }
   ],
   "source": [
    "test_label = to_categorical(test_label)\n",
    "test_label.shape"
   ]
  },
  {
   "cell_type": "code",
   "execution_count": null,
   "metadata": {},
   "outputs": [],
   "source": []
  },
  {
   "cell_type": "code",
   "execution_count": null,
   "metadata": {},
   "outputs": [],
   "source": []
  },
  {
   "cell_type": "code",
   "execution_count": 20,
   "metadata": {},
   "outputs": [
    {
     "name": "stdout",
     "output_type": "stream",
     "text": [
      "Model: \"sequential\"\n",
      "_________________________________________________________________\n",
      "Layer (type)                 Output Shape              Param #   \n",
      "=================================================================\n",
      "conv2d (Conv2D)              (None, 26, 26, 32)        320       \n",
      "_________________________________________________________________\n",
      "conv2d_1 (Conv2D)            (None, 24, 24, 64)        18496     \n",
      "_________________________________________________________________\n",
      "max_pooling2d (MaxPooling2D) (None, 12, 12, 64)        0         \n",
      "_________________________________________________________________\n",
      "conv2d_2 (Conv2D)            (None, 10, 10, 64)        36928     \n",
      "_________________________________________________________________\n",
      "conv2d_3 (Conv2D)            (None, 8, 8, 64)          36928     \n",
      "_________________________________________________________________\n",
      "max_pooling2d_1 (MaxPooling2 (None, 4, 4, 64)          0         \n",
      "_________________________________________________________________\n",
      "dropout (Dropout)            (None, 4, 4, 64)          0         \n",
      "_________________________________________________________________\n",
      "flatten (Flatten)            (None, 1024)              0         \n",
      "_________________________________________________________________\n",
      "dense (Dense)                (None, 128)               131200    \n",
      "_________________________________________________________________\n",
      "dropout_1 (Dropout)          (None, 128)               0         \n",
      "_________________________________________________________________\n",
      "dense_1 (Dense)              (None, 38)                4902      \n",
      "=================================================================\n",
      "Total params: 228,774\n",
      "Trainable params: 228,774\n",
      "Non-trainable params: 0\n",
      "_________________________________________________________________\n"
     ]
    }
   ],
   "source": [
    "model = Sequential()\n",
    "model.add(Conv2D(filters = 32, kernel_size = (3, 3), activation = 'relu', input_shape = (28, 28, 1)))\n",
    "model.add(Conv2D(filters = 64, kernel_size = (3, 3), activation = 'relu'))\n",
    "model.add(MaxPooling2D(pool_size = (2, 2)))\n",
    "\n",
    "model.add(Conv2D(filters = 64, kernel_size = (3, 3), activation = 'relu'))\n",
    "model.add(Conv2D(filters = 64, kernel_size = (3, 3), activation = 'relu'))\n",
    "\n",
    "model.add(MaxPooling2D(pool_size = (2, 2)))\n",
    "model.add(Dropout(.2))\n",
    "\n",
    "model.add(Flatten())\n",
    "\n",
    "model.add(Dense(units = 128, activation = 'relu'))\n",
    "model.add(Dropout(.2))\n",
    "\n",
    "model.add(Dense(units = 38, activation = 'softmax'))\n",
    "model.summary()"
   ]
  },
  {
   "cell_type": "code",
   "execution_count": 21,
   "metadata": {},
   "outputs": [],
   "source": [
    "model.compile(optimizer = 'adam', loss = 'categorical_crossentropy', metrics = ['accuracy'])"
   ]
  },
  {
   "cell_type": "code",
   "execution_count": 22,
   "metadata": {},
   "outputs": [
    {
     "name": "stdout",
     "output_type": "stream",
     "text": [
      "Epoch 1/2\n",
      "11537/11537 [==============================] - 756s 65ms/step - loss: 0.2128 - accuracy: 0.9388 - val_loss: 0.0808 - val_accuracy: 0.9786\n",
      "Epoch 2/2\n",
      "11537/11537 [==============================] - 766s 66ms/step - loss: 0.0993 - accuracy: 0.9716 - val_loss: 0.0653 - val_accuracy: 0.9827\n"
     ]
    }
   ],
   "source": [
    "history = model.fit(train_data, train_label, validation_data = (test_data, test_label), epochs = 2)"
   ]
  },
  {
   "cell_type": "code",
   "execution_count": 23,
   "metadata": {},
   "outputs": [],
   "source": [
    "model.save('CD1.h5')"
   ]
  },
  {
   "cell_type": "code",
   "execution_count": 24,
   "metadata": {},
   "outputs": [
    {
     "data": {
      "image/png": "[encoded data removed]",
      "text/plain": [
       "<Figure size 432x288 with 1 Axes>"
      ]
     },
     "metadata": {
      "needs_background": "light"
     },
     "output_type": "display_data"
    }
   ],
   "source": [
    "loss_train = history.history['loss']\n",
    "loss_val = history.history['val_loss']\n",
    "epochs = range(1,3)\n",
    "\n",
    "plt.plot(epochs, loss_train, 'g', label='Training loss')\n",
    "plt.plot(epochs, loss_val, 'b', label='validation loss')\n",
    "plt.title('Training and Validation loss')\n",
    "plt.xlabel('Epochs')\n",
    "plt.ylabel('Loss')\n",
    "plt.legend()\n",
    "plt.show()"
   ]
  },
  {
   "cell_type": "markdown",
   "metadata": {},
   "source": [
    "##### loss_train = history.history['accuracy']\n",
    "loss_val = history.history['val_accuracy']\n",
    "epochs = range(1,4)\n",
    "plt.plot(epochs, loss_train, 'g', label='Training accuracy')\n",
    "plt.plot(epochs, loss_val, 'b', label='validation accuracy')\n",
    "plt.title('Training and Validation accuracy')\n",
    "plt.xlabel('Epochs')\n",
    "plt.ylabel('accuracy')\n",
    "plt.legend()\n",
    "plt.show()"
   ]
  },
  {
   "cell_type": "code",
   "execution_count": null,
   "metadata": {},
   "outputs": [],
   "source": []
  },
  {
   "cell_type": "code",
   "execution_count": 11,
   "metadata": {},
   "outputs": [
    {
     "name": "stdout",
     "output_type": "stream",
     "text": [
      "this is \n"
     ]
    }
   ],
   "source": [
    "word1 = \"bishesh\"\n",
    "word2 = 'hsehsib'\n",
    "word2 = list(word2)\n",
    "\n",
    "for i in  word1:\n",
    "    if i in word2:\n",
    "        word2.remove(i)\n",
    "    else:\n",
    "        print(\"This is not\")\n",
    "        \n",
    "if len(word2) == 0:\n",
    "    print(\"this is \")\n",
    "else:\n",
    "    print(\"this is not\")\n",
    "        "
   ]
  },
  {
   "cell_type": "code",
   "execution_count": null,
   "metadata": {},
   "outputs": [],
   "source": []
  }
 ],
 "metadata": {
  "kernelspec": {
   "display_name": "Python 3",
   "language": "python",
   "name": "python3"
  },
  "language_info": {
   "codemirror_mode": {
    "name": "ipython",
    "version": 3
   },
   "file_extension": ".py",
   "mimetype": "text/x-python",
   "name": "python",
   "nbconvert_exporter": "python",
   "pygments_lexer": "ipython3",
   "version": "3.8.8"
  }
 },
 "nbformat": 4,
 "nbformat_minor": 2
}
