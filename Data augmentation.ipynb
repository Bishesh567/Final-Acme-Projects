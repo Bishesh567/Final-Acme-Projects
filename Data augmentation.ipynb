{
 "cells": [
  {
   "cell_type": "code",
   "execution_count": 20,
   "id": "7296ff3a",
   "metadata": {},
   "outputs": [
    {
     "name": "stdout",
     "output_type": "stream",
     "text": [
      "Found 110 images belonging to 1 classes.\n"
     ]
    }
   ],
   "source": [
    "from keras.preprocessing.image import ImageDataGenerator, array_to_img, img_to_array, load_img\n",
    "\n",
    "\n",
    "\n",
    "datagen = ImageDataGenerator(\n",
    "        rescale = 1./255,\n",
    "        rotation_range = 40,\n",
    "        shear_range = 0.2,\n",
    "        zoom_range = 0.2,\n",
    "        horizontal_flip = False,\n",
    "        brightness_range = (0.5, 1.5))\n",
    "    \n",
    "\n",
    "img = load_img('image.png') \n",
    "\n",
    "\n",
    "x = img_to_array(img)\n",
    "\n",
    "x = x.reshape((1, ) + x.shape) \n",
    "   \n",
    " \n",
    " \n",
    "i = 0\n",
    "for batch in datagen.flow_from_directory(\"C:\\\\Users\\\\dell\\\\Desktop\\\\data\", batch_size = 106,\n",
    "                          save_to_dir ='C:\\\\Users\\\\dell\\\\Desktop\\\\owndata/kha',\n",
    "                           target_size = (28,28), \n",
    "                          save_prefix ='image', \n",
    "                          save_format ='jpg'):\n",
    "    i += 1\n",
    "    if i > 125:\n",
    "        break"
   ]
  },
  {
   "cell_type": "code",
   "execution_count": null,
   "id": "74364c40",
   "metadata": {},
   "outputs": [],
   "source": []
  },
  {
   "cell_type": "code",
   "execution_count": null,
   "id": "8e132867",
   "metadata": {},
   "outputs": [],
   "source": []
  },
  {
   "cell_type": "code",
   "execution_count": null,
   "id": "25a65a3e",
   "metadata": {},
   "outputs": [],
   "source": []
  },
  {
   "cell_type": "code",
   "execution_count": null,
   "id": "e2eb9a98",
   "metadata": {},
   "outputs": [],
   "source": []
  },
  {
   "cell_type": "code",
   "execution_count": 5,
   "id": "8e3b5c98",
   "metadata": {},
   "outputs": [],
   "source": [
    "train_dir = \"C:\\\\Users\\\\dell\\\\Desktop\\\\owndata\""
   ]
  },
  {
   "cell_type": "code",
   "execution_count": 6,
   "id": "db73c061",
   "metadata": {},
   "outputs": [
    {
     "name": "stdout",
     "output_type": "stream",
     "text": [
      "Found 216 images belonging to 2 classes.\n"
     ]
    }
   ],
   "source": [
    "from keras.preprocessing.image import ImageDataGenerator\n",
    "train_dataGen = ImageDataGenerator(rescale = 1./255,\n",
    "                                  rotation_range = 40,\n",
    "                                   width_shift_range = 0.2,\n",
    "                                   height_shift_range = 0.2,\n",
    "                                   shear_range = 0.2,\n",
    "                                   zoom_range = 0.2,\n",
    "                                   horizontal_flip = True\n",
    "                                  )\n",
    "\n",
    "train_generator = train_dataGen.flow_from_directory(train_dir,\n",
    "                                                  target_size = (150,150),\n",
    "                                                  batch_size = 20,\n",
    "                                                  save_to_dir = \"C:\\\\Users\\\\dell\\\\Desktop\\\\owndata\\\\ka1\",\n",
    "                                                  class_mode = 'binary')\n"
   ]
  },
  {
   "cell_type": "code",
   "execution_count": null,
   "id": "793d5b85",
   "metadata": {},
   "outputs": [],
   "source": []
  }
 ],
 "metadata": {
  "kernelspec": {
   "display_name": "Python 3",
   "language": "python",
   "name": "python3"
  },
  "language_info": {
   "codemirror_mode": {
    "name": "ipython",
    "version": 3
   },
   "file_extension": ".py",
   "mimetype": "text/x-python",
   "name": "python",
   "nbconvert_exporter": "python",
   "pygments_lexer": "ipython3",
   "version": "3.8.8"
  }
 },
 "nbformat": 4,
 "nbformat_minor": 5
}
